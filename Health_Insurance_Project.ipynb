{
 "cells": [
  {
   "cell_type": "code",
   "execution_count": 1,
   "id": "75731fea",
   "metadata": {},
   "outputs": [],
   "source": [
    "import pandas as pd\n",
    "import numpy as np\n",
    "import seaborn as sns\n",
    "import matplotlib.pyplot as plt\n",
    "from sklearn.model_selection import train_test_split\n",
    "from sklearn.metrics import mean_squared_error,mean_absolute_error,r2_score"
   ]
  },
  {
   "cell_type": "code",
   "execution_count": 2,
   "id": "faff178a",
   "metadata": {},
   "outputs": [
    {
     "data": {
      "text/html": [
       "<div>\n",
       "<style scoped>\n",
       "    .dataframe tbody tr th:only-of-type {\n",
       "        vertical-align: middle;\n",
       "    }\n",
       "\n",
       "    .dataframe tbody tr th {\n",
       "        vertical-align: top;\n",
       "    }\n",
       "\n",
       "    .dataframe thead th {\n",
       "        text-align: right;\n",
       "    }\n",
       "</style>\n",
       "<table border=\"1\" class=\"dataframe\">\n",
       "  <thead>\n",
       "    <tr style=\"text-align: right;\">\n",
       "      <th></th>\n",
       "      <th>age</th>\n",
       "      <th>sex</th>\n",
       "      <th>bmi</th>\n",
       "      <th>children</th>\n",
       "      <th>smoker</th>\n",
       "      <th>region</th>\n",
       "      <th>charges</th>\n",
       "    </tr>\n",
       "  </thead>\n",
       "  <tbody>\n",
       "    <tr>\n",
       "      <th>0</th>\n",
       "      <td>19</td>\n",
       "      <td>female</td>\n",
       "      <td>27.900</td>\n",
       "      <td>0</td>\n",
       "      <td>yes</td>\n",
       "      <td>southwest</td>\n",
       "      <td>16884.92400</td>\n",
       "    </tr>\n",
       "    <tr>\n",
       "      <th>1</th>\n",
       "      <td>18</td>\n",
       "      <td>male</td>\n",
       "      <td>33.770</td>\n",
       "      <td>1</td>\n",
       "      <td>no</td>\n",
       "      <td>southeast</td>\n",
       "      <td>1725.55230</td>\n",
       "    </tr>\n",
       "    <tr>\n",
       "      <th>2</th>\n",
       "      <td>28</td>\n",
       "      <td>male</td>\n",
       "      <td>33.000</td>\n",
       "      <td>3</td>\n",
       "      <td>no</td>\n",
       "      <td>southeast</td>\n",
       "      <td>4449.46200</td>\n",
       "    </tr>\n",
       "    <tr>\n",
       "      <th>3</th>\n",
       "      <td>33</td>\n",
       "      <td>male</td>\n",
       "      <td>22.705</td>\n",
       "      <td>0</td>\n",
       "      <td>no</td>\n",
       "      <td>northwest</td>\n",
       "      <td>21984.47061</td>\n",
       "    </tr>\n",
       "    <tr>\n",
       "      <th>4</th>\n",
       "      <td>32</td>\n",
       "      <td>male</td>\n",
       "      <td>28.880</td>\n",
       "      <td>0</td>\n",
       "      <td>no</td>\n",
       "      <td>northwest</td>\n",
       "      <td>3866.85520</td>\n",
       "    </tr>\n",
       "    <tr>\n",
       "      <th>5</th>\n",
       "      <td>31</td>\n",
       "      <td>female</td>\n",
       "      <td>25.740</td>\n",
       "      <td>0</td>\n",
       "      <td>no</td>\n",
       "      <td>southeast</td>\n",
       "      <td>3756.62160</td>\n",
       "    </tr>\n",
       "    <tr>\n",
       "      <th>6</th>\n",
       "      <td>46</td>\n",
       "      <td>female</td>\n",
       "      <td>33.440</td>\n",
       "      <td>1</td>\n",
       "      <td>no</td>\n",
       "      <td>southeast</td>\n",
       "      <td>8240.58960</td>\n",
       "    </tr>\n",
       "    <tr>\n",
       "      <th>7</th>\n",
       "      <td>37</td>\n",
       "      <td>female</td>\n",
       "      <td>27.740</td>\n",
       "      <td>3</td>\n",
       "      <td>no</td>\n",
       "      <td>northwest</td>\n",
       "      <td>7281.50560</td>\n",
       "    </tr>\n",
       "    <tr>\n",
       "      <th>8</th>\n",
       "      <td>37</td>\n",
       "      <td>male</td>\n",
       "      <td>29.830</td>\n",
       "      <td>2</td>\n",
       "      <td>no</td>\n",
       "      <td>northeast</td>\n",
       "      <td>6406.41070</td>\n",
       "    </tr>\n",
       "    <tr>\n",
       "      <th>9</th>\n",
       "      <td>60</td>\n",
       "      <td>female</td>\n",
       "      <td>25.840</td>\n",
       "      <td>0</td>\n",
       "      <td>no</td>\n",
       "      <td>northwest</td>\n",
       "      <td>28923.13692</td>\n",
       "    </tr>\n",
       "  </tbody>\n",
       "</table>\n",
       "</div>"
      ],
      "text/plain": [
       "   age     sex     bmi  children smoker     region      charges\n",
       "0   19  female  27.900         0    yes  southwest  16884.92400\n",
       "1   18    male  33.770         1     no  southeast   1725.55230\n",
       "2   28    male  33.000         3     no  southeast   4449.46200\n",
       "3   33    male  22.705         0     no  northwest  21984.47061\n",
       "4   32    male  28.880         0     no  northwest   3866.85520\n",
       "5   31  female  25.740         0     no  southeast   3756.62160\n",
       "6   46  female  33.440         1     no  southeast   8240.58960\n",
       "7   37  female  27.740         3     no  northwest   7281.50560\n",
       "8   37    male  29.830         2     no  northeast   6406.41070\n",
       "9   60  female  25.840         0     no  northwest  28923.13692"
      ]
     },
     "execution_count": 2,
     "metadata": {},
     "output_type": "execute_result"
    }
   ],
   "source": [
    "df=pd.read_csv(\"health insurance.csv\")\n",
    "df.head(10)"
   ]
  },
  {
   "cell_type": "code",
   "execution_count": 3,
   "id": "5aecef16",
   "metadata": {},
   "outputs": [
    {
     "data": {
      "text/html": [
       "<div>\n",
       "<style scoped>\n",
       "    .dataframe tbody tr th:only-of-type {\n",
       "        vertical-align: middle;\n",
       "    }\n",
       "\n",
       "    .dataframe tbody tr th {\n",
       "        vertical-align: top;\n",
       "    }\n",
       "\n",
       "    .dataframe thead th {\n",
       "        text-align: right;\n",
       "    }\n",
       "</style>\n",
       "<table border=\"1\" class=\"dataframe\">\n",
       "  <thead>\n",
       "    <tr style=\"text-align: right;\">\n",
       "      <th></th>\n",
       "      <th>age</th>\n",
       "      <th>sex</th>\n",
       "      <th>bmi</th>\n",
       "      <th>children</th>\n",
       "      <th>smoker</th>\n",
       "      <th>region</th>\n",
       "      <th>charges</th>\n",
       "    </tr>\n",
       "  </thead>\n",
       "  <tbody>\n",
       "    <tr>\n",
       "      <th>1333</th>\n",
       "      <td>50</td>\n",
       "      <td>male</td>\n",
       "      <td>30.97</td>\n",
       "      <td>3</td>\n",
       "      <td>no</td>\n",
       "      <td>northwest</td>\n",
       "      <td>10600.5483</td>\n",
       "    </tr>\n",
       "    <tr>\n",
       "      <th>1334</th>\n",
       "      <td>18</td>\n",
       "      <td>female</td>\n",
       "      <td>31.92</td>\n",
       "      <td>0</td>\n",
       "      <td>no</td>\n",
       "      <td>northeast</td>\n",
       "      <td>2205.9808</td>\n",
       "    </tr>\n",
       "    <tr>\n",
       "      <th>1335</th>\n",
       "      <td>18</td>\n",
       "      <td>female</td>\n",
       "      <td>36.85</td>\n",
       "      <td>0</td>\n",
       "      <td>no</td>\n",
       "      <td>southeast</td>\n",
       "      <td>1629.8335</td>\n",
       "    </tr>\n",
       "    <tr>\n",
       "      <th>1336</th>\n",
       "      <td>21</td>\n",
       "      <td>female</td>\n",
       "      <td>25.80</td>\n",
       "      <td>0</td>\n",
       "      <td>no</td>\n",
       "      <td>southwest</td>\n",
       "      <td>2007.9450</td>\n",
       "    </tr>\n",
       "    <tr>\n",
       "      <th>1337</th>\n",
       "      <td>61</td>\n",
       "      <td>female</td>\n",
       "      <td>29.07</td>\n",
       "      <td>0</td>\n",
       "      <td>yes</td>\n",
       "      <td>northwest</td>\n",
       "      <td>29141.3603</td>\n",
       "    </tr>\n",
       "  </tbody>\n",
       "</table>\n",
       "</div>"
      ],
      "text/plain": [
       "      age     sex    bmi  children smoker     region     charges\n",
       "1333   50    male  30.97         3     no  northwest  10600.5483\n",
       "1334   18  female  31.92         0     no  northeast   2205.9808\n",
       "1335   18  female  36.85         0     no  southeast   1629.8335\n",
       "1336   21  female  25.80         0     no  southwest   2007.9450\n",
       "1337   61  female  29.07         0    yes  northwest  29141.3603"
      ]
     },
     "execution_count": 3,
     "metadata": {},
     "output_type": "execute_result"
    }
   ],
   "source": [
    "df.tail()"
   ]
  },
  {
   "cell_type": "code",
   "execution_count": 4,
   "id": "b95ede3b",
   "metadata": {},
   "outputs": [
    {
     "data": {
      "text/plain": [
       "(1338, 7)"
      ]
     },
     "execution_count": 4,
     "metadata": {},
     "output_type": "execute_result"
    }
   ],
   "source": [
    "df.shape"
   ]
  },
  {
   "cell_type": "code",
   "execution_count": 5,
   "id": "3c96d16d",
   "metadata": {},
   "outputs": [
    {
     "data": {
      "text/plain": [
       "age           int64\n",
       "sex          object\n",
       "bmi         float64\n",
       "children      int64\n",
       "smoker       object\n",
       "region       object\n",
       "charges     float64\n",
       "dtype: object"
      ]
     },
     "execution_count": 5,
     "metadata": {},
     "output_type": "execute_result"
    }
   ],
   "source": [
    "df.dtypes"
   ]
  },
  {
   "cell_type": "code",
   "execution_count": 6,
   "id": "3e8d85a5",
   "metadata": {},
   "outputs": [
    {
     "data": {
      "text/plain": [
       "array(['female', 'male'], dtype=object)"
      ]
     },
     "execution_count": 6,
     "metadata": {},
     "output_type": "execute_result"
    }
   ],
   "source": [
    "df['sex'].unique()"
   ]
  },
  {
   "cell_type": "code",
   "execution_count": 7,
   "id": "67a6c7a4",
   "metadata": {},
   "outputs": [
    {
     "data": {
      "text/plain": [
       "array(['southwest', 'southeast', 'northwest', 'northeast'], dtype=object)"
      ]
     },
     "execution_count": 7,
     "metadata": {},
     "output_type": "execute_result"
    }
   ],
   "source": [
    "df['region'].unique()"
   ]
  },
  {
   "cell_type": "code",
   "execution_count": 8,
   "id": "57203972",
   "metadata": {},
   "outputs": [
    {
     "data": {
      "text/plain": [
       "array([0, 1, 3, 2, 5, 4], dtype=int64)"
      ]
     },
     "execution_count": 8,
     "metadata": {},
     "output_type": "execute_result"
    }
   ],
   "source": [
    "df['children'].unique()"
   ]
  },
  {
   "cell_type": "code",
   "execution_count": 9,
   "id": "d9c97060",
   "metadata": {},
   "outputs": [
    {
     "name": "stdout",
     "output_type": "stream",
     "text": [
      "<class 'pandas.core.frame.DataFrame'>\n",
      "RangeIndex: 1338 entries, 0 to 1337\n",
      "Data columns (total 7 columns):\n",
      " #   Column    Non-Null Count  Dtype  \n",
      "---  ------    --------------  -----  \n",
      " 0   age       1338 non-null   int64  \n",
      " 1   sex       1338 non-null   object \n",
      " 2   bmi       1338 non-null   float64\n",
      " 3   children  1338 non-null   int64  \n",
      " 4   smoker    1338 non-null   object \n",
      " 5   region    1338 non-null   object \n",
      " 6   charges   1338 non-null   float64\n",
      "dtypes: float64(2), int64(2), object(3)\n",
      "memory usage: 73.3+ KB\n"
     ]
    }
   ],
   "source": [
    "df.info()"
   ]
  },
  {
   "cell_type": "markdown",
   "id": "69dd0401",
   "metadata": {},
   "source": [
    "There are 4 columns are numerical\n",
    "\n",
    "-->age\n",
    "-->bmi\n",
    "-->children\n",
    "-->charges\n",
    "\n",
    "There are 3 categorical columns\n",
    "\n",
    "-->sex\n",
    "-->smoker\n",
    "-->region\n",
    "\n"
   ]
  },
  {
   "cell_type": "code",
   "execution_count": 10,
   "id": "990d9bba",
   "metadata": {},
   "outputs": [
    {
     "data": {
      "text/plain": [
       "age         0\n",
       "sex         0\n",
       "bmi         0\n",
       "children    0\n",
       "smoker      0\n",
       "region      0\n",
       "charges     0\n",
       "dtype: int64"
      ]
     },
     "execution_count": 10,
     "metadata": {},
     "output_type": "execute_result"
    }
   ],
   "source": [
    "df.isnull().sum()"
   ]
  },
  {
   "cell_type": "code",
   "execution_count": 11,
   "id": "44d2641a",
   "metadata": {},
   "outputs": [
    {
     "data": {
      "text/html": [
       "<div>\n",
       "<style scoped>\n",
       "    .dataframe tbody tr th:only-of-type {\n",
       "        vertical-align: middle;\n",
       "    }\n",
       "\n",
       "    .dataframe tbody tr th {\n",
       "        vertical-align: top;\n",
       "    }\n",
       "\n",
       "    .dataframe thead th {\n",
       "        text-align: right;\n",
       "    }\n",
       "</style>\n",
       "<table border=\"1\" class=\"dataframe\">\n",
       "  <thead>\n",
       "    <tr style=\"text-align: right;\">\n",
       "      <th></th>\n",
       "      <th>age</th>\n",
       "      <th>bmi</th>\n",
       "      <th>children</th>\n",
       "      <th>charges</th>\n",
       "    </tr>\n",
       "  </thead>\n",
       "  <tbody>\n",
       "    <tr>\n",
       "      <th>count</th>\n",
       "      <td>1338.000000</td>\n",
       "      <td>1338.000000</td>\n",
       "      <td>1338.000000</td>\n",
       "      <td>1338.000000</td>\n",
       "    </tr>\n",
       "    <tr>\n",
       "      <th>mean</th>\n",
       "      <td>39.207025</td>\n",
       "      <td>30.663397</td>\n",
       "      <td>1.094918</td>\n",
       "      <td>13270.422265</td>\n",
       "    </tr>\n",
       "    <tr>\n",
       "      <th>std</th>\n",
       "      <td>14.049960</td>\n",
       "      <td>6.098187</td>\n",
       "      <td>1.205493</td>\n",
       "      <td>12110.011237</td>\n",
       "    </tr>\n",
       "    <tr>\n",
       "      <th>min</th>\n",
       "      <td>18.000000</td>\n",
       "      <td>15.960000</td>\n",
       "      <td>0.000000</td>\n",
       "      <td>1121.873900</td>\n",
       "    </tr>\n",
       "    <tr>\n",
       "      <th>25%</th>\n",
       "      <td>27.000000</td>\n",
       "      <td>26.296250</td>\n",
       "      <td>0.000000</td>\n",
       "      <td>4740.287150</td>\n",
       "    </tr>\n",
       "    <tr>\n",
       "      <th>50%</th>\n",
       "      <td>39.000000</td>\n",
       "      <td>30.400000</td>\n",
       "      <td>1.000000</td>\n",
       "      <td>9382.033000</td>\n",
       "    </tr>\n",
       "    <tr>\n",
       "      <th>75%</th>\n",
       "      <td>51.000000</td>\n",
       "      <td>34.693750</td>\n",
       "      <td>2.000000</td>\n",
       "      <td>16639.912515</td>\n",
       "    </tr>\n",
       "    <tr>\n",
       "      <th>max</th>\n",
       "      <td>64.000000</td>\n",
       "      <td>53.130000</td>\n",
       "      <td>5.000000</td>\n",
       "      <td>63770.428010</td>\n",
       "    </tr>\n",
       "  </tbody>\n",
       "</table>\n",
       "</div>"
      ],
      "text/plain": [
       "               age          bmi     children       charges\n",
       "count  1338.000000  1338.000000  1338.000000   1338.000000\n",
       "mean     39.207025    30.663397     1.094918  13270.422265\n",
       "std      14.049960     6.098187     1.205493  12110.011237\n",
       "min      18.000000    15.960000     0.000000   1121.873900\n",
       "25%      27.000000    26.296250     0.000000   4740.287150\n",
       "50%      39.000000    30.400000     1.000000   9382.033000\n",
       "75%      51.000000    34.693750     2.000000  16639.912515\n",
       "max      64.000000    53.130000     5.000000  63770.428010"
      ]
     },
     "execution_count": 11,
     "metadata": {},
     "output_type": "execute_result"
    }
   ],
   "source": [
    "df.describe()"
   ]
  },
  {
   "cell_type": "code",
   "execution_count": 12,
   "id": "da8b6a76",
   "metadata": {},
   "outputs": [
    {
     "data": {
      "image/png": "[encoded data removed]",
      "text/plain": [
       "<Figure size 640x480 with 1 Axes>"
      ]
     },
     "metadata": {},
     "output_type": "display_data"
    }
   ],
   "source": [
    "# univariant analysis of SEX\n",
    "sns.countplot(x='sex',data=df)\n",
    "plt.show()"
   ]
  },
  {
   "cell_type": "code",
   "execution_count": 13,
   "id": "de8729cc",
   "metadata": {},
   "outputs": [
    {
     "data": {
      "image/png": "[encoded data removed]",
      "text/plain": [
       "<Figure size 500x500 with 1 Axes>"
      ]
     },
     "metadata": {},
     "output_type": "display_data"
    }
   ],
   "source": [
    "# Region distribution\n",
    "sns.catplot(x='region',data=df,kind='count')\n",
    "plt.show()"
   ]
  },
  {
   "cell_type": "code",
   "execution_count": 14,
   "id": "55cb85c4",
   "metadata": {},
   "outputs": [
    {
     "name": "stderr",
     "output_type": "stream",
     "text": [
      "C:\\Users\\A\\folder\\lib\\site-packages\\seaborn\\distributions.py:2619: FutureWarning: `distplot` is a deprecated function and will be removed in a future version. Please adapt your code to use either `displot` (a figure-level function with similar flexibility) or `histplot` (an axes-level function for histograms).\n",
      "  warnings.warn(msg, FutureWarning)\n",
      "C:\\Users\\A\\folder\\lib\\site-packages\\seaborn\\distributions.py:2103: FutureWarning: The `axis` variable is no longer used and will be removed. Instead, assign variables directly to `x` or `y`.\n",
      "  warnings.warn(msg, FutureWarning)\n"
     ]
    },
    {
     "data": {
      "image/png": "[encoded data removed]",
      "text/plain": [
       "<Figure size 600x600 with 1 Axes>"
      ]
     },
     "metadata": {},
     "output_type": "display_data"
    }
   ],
   "source": [
    "# Age distribution using distplot\n",
    "plt.figure(figsize=(6,6))\n",
    "sns.distplot(df['age'],kde=True,rug=True)\n",
    "plt.show()"
   ]
  },
  {
   "cell_type": "code",
   "execution_count": 15,
   "id": "8e7de350",
   "metadata": {},
   "outputs": [
    {
     "data": {
      "text/plain": [
       "Index(['age', 'sex', 'bmi', 'children', 'smoker', 'region', 'charges'], dtype='object')"
      ]
     },
     "execution_count": 15,
     "metadata": {},
     "output_type": "execute_result"
    }
   ],
   "source": [
    "df.columns"
   ]
  },
  {
   "cell_type": "code",
   "execution_count": 16,
   "id": "b9756c91",
   "metadata": {},
   "outputs": [
    {
     "data": {
      "image/png": "[encoded data removed]",
      "text/plain": [
       "<Figure size 500x500 with 1 Axes>"
      ]
     },
     "metadata": {},
     "output_type": "display_data"
    }
   ],
   "source": [
    "# distribution of BMI\n",
    "sns.displot(df['bmi'],kde=True)\n",
    "plt.show()"
   ]
  },
  {
   "cell_type": "markdown",
   "id": "963abc9e",
   "metadata": {},
   "source": [
    "Normal BMI range=18.5 to 24.9\n",
    "\n",
    "if bmi is lower than '18.5' the person is 'underweight' and if bmi is greater than '24.9' the person is 'overweight'\n",
    "\n",
    "there are lot of person are overweight"
   ]
  },
  {
   "cell_type": "code",
   "execution_count": 17,
   "id": "da2a4909",
   "metadata": {},
   "outputs": [
    {
     "data": {
      "image/png": "[encoded data removed]",
      "text/plain": [
       "<Figure size 640x480 with 1 Axes>"
      ]
     },
     "metadata": {},
     "output_type": "display_data"
    }
   ],
   "source": [
    "# No. of children distribution\n",
    "sns.countplot(x='children',data=df)\n",
    "plt.show()"
   ]
  },
  {
   "cell_type": "code",
   "execution_count": 18,
   "id": "9e359bf6",
   "metadata": {},
   "outputs": [
    {
     "data": {
      "text/plain": [
       "0    574\n",
       "1    324\n",
       "2    240\n",
       "3    157\n",
       "4     25\n",
       "5     18\n",
       "Name: children, dtype: int64"
      ]
     },
     "execution_count": 18,
     "metadata": {},
     "output_type": "execute_result"
    }
   ],
   "source": [
    "df['children'].value_counts()"
   ]
  },
  {
   "cell_type": "markdown",
   "id": "5d084f6b",
   "metadata": {},
   "source": [
    "574--> people has no chlidren,  324-->people has 1 children,  240-->people has 2 children,  157-->people has 3 children, \n",
    "25-->people has 4 children,   18--> peeople has only 5 children"
   ]
  },
  {
   "cell_type": "code",
   "execution_count": 19,
   "id": "d72045a1",
   "metadata": {},
   "outputs": [
    {
     "data": {
      "image/png": "[encoded data removed]",
      "text/plain": [
       "<Figure size 640x480 with 1 Axes>"
      ]
     },
     "metadata": {},
     "output_type": "display_data"
    }
   ],
   "source": [
    "# smoker distribution\n",
    "sns.countplot(x='smoker',data=df)\n",
    "plt.show()"
   ]
  },
  {
   "cell_type": "code",
   "execution_count": 20,
   "id": "5cdb0593",
   "metadata": {},
   "outputs": [
    {
     "data": {
      "text/plain": [
       "no     1064\n",
       "yes     274\n",
       "Name: smoker, dtype: int64"
      ]
     },
     "execution_count": 20,
     "metadata": {},
     "output_type": "execute_result"
    }
   ],
   "source": [
    "df['smoker'].value_counts()"
   ]
  },
  {
   "cell_type": "markdown",
   "id": "193fd7eb",
   "metadata": {},
   "source": [
    "from the above graph\n",
    "--->>274 people are smoker"
   ]
  },
  {
   "cell_type": "code",
   "execution_count": 24,
   "id": "f5b38465",
   "metadata": {},
   "outputs": [
    {
     "data": {
      "image/png": "[encoded data removed]",
      "text/plain": [
       "<Figure size 500x500 with 1 Axes>"
      ]
     },
     "metadata": {},
     "output_type": "display_data"
    }
   ],
   "source": [
    "#charges distribution\n",
    "sns.displot(df['charges'],kde=True)\n",
    "plt.show()"
   ]
  },
  {
   "cell_type": "code",
   "execution_count": 25,
   "id": "b473ad26",
   "metadata": {},
   "outputs": [
    {
     "data": {
      "text/html": [
       "<div>\n",
       "<style scoped>\n",
       "    .dataframe tbody tr th:only-of-type {\n",
       "        vertical-align: middle;\n",
       "    }\n",
       "\n",
       "    .dataframe tbody tr th {\n",
       "        vertical-align: top;\n",
       "    }\n",
       "\n",
       "    .dataframe thead th {\n",
       "        text-align: right;\n",
       "    }\n",
       "</style>\n",
       "<table border=\"1\" class=\"dataframe\">\n",
       "  <thead>\n",
       "    <tr style=\"text-align: right;\">\n",
       "      <th></th>\n",
       "      <th>age</th>\n",
       "      <th>bmi</th>\n",
       "      <th>children</th>\n",
       "      <th>charges</th>\n",
       "    </tr>\n",
       "  </thead>\n",
       "  <tbody>\n",
       "    <tr>\n",
       "      <th>age</th>\n",
       "      <td>1.000000</td>\n",
       "      <td>0.109272</td>\n",
       "      <td>0.042469</td>\n",
       "      <td>0.299008</td>\n",
       "    </tr>\n",
       "    <tr>\n",
       "      <th>bmi</th>\n",
       "      <td>0.109272</td>\n",
       "      <td>1.000000</td>\n",
       "      <td>0.012759</td>\n",
       "      <td>0.198341</td>\n",
       "    </tr>\n",
       "    <tr>\n",
       "      <th>children</th>\n",
       "      <td>0.042469</td>\n",
       "      <td>0.012759</td>\n",
       "      <td>1.000000</td>\n",
       "      <td>0.067998</td>\n",
       "    </tr>\n",
       "    <tr>\n",
       "      <th>charges</th>\n",
       "      <td>0.299008</td>\n",
       "      <td>0.198341</td>\n",
       "      <td>0.067998</td>\n",
       "      <td>1.000000</td>\n",
       "    </tr>\n",
       "  </tbody>\n",
       "</table>\n",
       "</div>"
      ],
      "text/plain": [
       "               age       bmi  children   charges\n",
       "age       1.000000  0.109272  0.042469  0.299008\n",
       "bmi       0.109272  1.000000  0.012759  0.198341\n",
       "children  0.042469  0.012759  1.000000  0.067998\n",
       "charges   0.299008  0.198341  0.067998  1.000000"
      ]
     },
     "execution_count": 25,
     "metadata": {},
     "output_type": "execute_result"
    }
   ],
   "source": [
    "#checking correlation\n",
    "df_corr=df.corr()\n",
    "df_corr"
   ]
  },
  {
   "cell_type": "code",
   "execution_count": 26,
   "id": "54bddf60",
   "metadata": {},
   "outputs": [
    {
     "data": {
      "text/plain": [
       "<AxesSubplot:>"
      ]
     },
     "execution_count": 26,
     "metadata": {},
     "output_type": "execute_result"
    },
    {
     "data": {
      "image/png": "[encoded data removed]",
      "text/plain": [
       "<Figure size 640x480 with 2 Axes>"
      ]
     },
     "metadata": {},
     "output_type": "display_data"
    }
   ],
   "source": [
    "sns.heatmap(df_corr,annot=True)"
   ]
  },
  {
   "cell_type": "code",
   "execution_count": 27,
   "id": "bbcea069",
   "metadata": {},
   "outputs": [
    {
     "data": {
      "text/plain": [
       "<bound method Series.sort_values of age         0.299008\n",
       "bmi         0.198341\n",
       "children    0.067998\n",
       "charges     1.000000\n",
       "Name: charges, dtype: float64>"
      ]
     },
     "execution_count": 27,
     "metadata": {},
     "output_type": "execute_result"
    }
   ],
   "source": [
    "df.corr()['charges'].sort_values"
   ]
  },
  {
   "cell_type": "code",
   "execution_count": 28,
   "id": "28a8f43e",
   "metadata": {},
   "outputs": [
    {
     "data": {
      "image/png": "[encoded data removed]",
      "text/plain": [
       "<Figure size 2200x600 with 1 Axes>"
      ]
     },
     "metadata": {},
     "output_type": "display_data"
    }
   ],
   "source": [
    "plt.figure(figsize=(22,6))\n",
    "df.corr()['charges'].sort_values(ascending=False).plot(kind='bar',color='m')\n",
    "plt.xlabel('charges',fontsize=19)\n",
    "plt.ylabel('features',fontsize=19)\n",
    "plt.show()"
   ]
  },
  {
   "cell_type": "markdown",
   "id": "acf78767",
   "metadata": {},
   "source": [
    "there are positively correlated with charges"
   ]
  },
  {
   "cell_type": "code",
   "execution_count": 29,
   "id": "a516cbad",
   "metadata": {},
   "outputs": [
    {
     "name": "stderr",
     "output_type": "stream",
     "text": [
      "C:\\Users\\A\\AppData\\Local\\Temp\\ipykernel_7040\\1665899112.py:1: FutureWarning: Dropping of nuisance columns in DataFrame reductions (with 'numeric_only=None') is deprecated; in a future version this will raise TypeError.  Select only valid columns before calling the reduction.\n",
      "  df.skew()\n"
     ]
    },
    {
     "data": {
      "text/plain": [
       "age         0.055673\n",
       "bmi         0.284047\n",
       "children    0.938380\n",
       "charges     1.515880\n",
       "dtype: float64"
      ]
     },
     "execution_count": 29,
     "metadata": {},
     "output_type": "execute_result"
    }
   ],
   "source": [
    "df.skew()"
   ]
  },
  {
   "cell_type": "markdown",
   "id": "d662f065",
   "metadata": {},
   "source": [
    "-0.5 to + 0.5 the distribution of the values is almost symetrical\n",
    "\n",
    "if its between 0.5 to 1 the data is positivelt skewed or skewness is moderate \n",
    "\n",
    "but if the skewness is lower than -1 means highly negatively skewed and if greater than +1 means highly positively skewed\n",
    "\n"
   ]
  },
  {
   "cell_type": "code",
   "execution_count": 30,
   "id": "2f18dc82",
   "metadata": {},
   "outputs": [],
   "source": [
    "from scipy import stats\n",
    "from scipy.stats import boxcox"
   ]
  },
  {
   "cell_type": "code",
   "execution_count": 31,
   "id": "bc3cefb7",
   "metadata": {},
   "outputs": [],
   "source": [
    "# removing skewness\n",
    "df['charges']=boxcox(df['charges'],0)\n"
   ]
  },
  {
   "cell_type": "code",
   "execution_count": 32,
   "id": "71ee6ea6",
   "metadata": {},
   "outputs": [
    {
     "name": "stderr",
     "output_type": "stream",
     "text": [
      "C:\\Users\\A\\AppData\\Local\\Temp\\ipykernel_7040\\1665899112.py:1: FutureWarning: Dropping of nuisance columns in DataFrame reductions (with 'numeric_only=None') is deprecated; in a future version this will raise TypeError.  Select only valid columns before calling the reduction.\n",
      "  df.skew()\n"
     ]
    },
    {
     "data": {
      "text/plain": [
       "age         0.055673\n",
       "bmi         0.284047\n",
       "children    0.938380\n",
       "charges    -0.090098\n",
       "dtype: float64"
      ]
     },
     "execution_count": 32,
     "metadata": {},
     "output_type": "execute_result"
    }
   ],
   "source": [
    "df.skew()"
   ]
  },
  {
   "cell_type": "markdown",
   "id": "116c4f79",
   "metadata": {},
   "source": [
    "now data is symmetric"
   ]
  },
  {
   "cell_type": "code",
   "execution_count": 33,
   "id": "6c464d2b",
   "metadata": {},
   "outputs": [],
   "source": [
    "# LabelEncoding\n",
    "#sex\n",
    "#smoker\n",
    "#region\n",
    "from sklearn.preprocessing import LabelEncoder\n",
    "le=LabelEncoder()\n",
    "df['sex']=le.fit_transform(df['sex'])\n",
    "df['smoker']=le.fit_transform(df['smoker'])\n",
    "df['region']=le.fit_transform(df['region'])"
   ]
  },
  {
   "cell_type": "code",
   "execution_count": 34,
   "id": "da5b31c0",
   "metadata": {},
   "outputs": [
    {
     "data": {
      "text/html": [
       "<div>\n",
       "<style scoped>\n",
       "    .dataframe tbody tr th:only-of-type {\n",
       "        vertical-align: middle;\n",
       "    }\n",
       "\n",
       "    .dataframe tbody tr th {\n",
       "        vertical-align: top;\n",
       "    }\n",
       "\n",
       "    .dataframe thead th {\n",
       "        text-align: right;\n",
       "    }\n",
       "</style>\n",
       "<table border=\"1\" class=\"dataframe\">\n",
       "  <thead>\n",
       "    <tr style=\"text-align: right;\">\n",
       "      <th></th>\n",
       "      <th>age</th>\n",
       "      <th>sex</th>\n",
       "      <th>bmi</th>\n",
       "      <th>children</th>\n",
       "      <th>smoker</th>\n",
       "      <th>region</th>\n",
       "      <th>charges</th>\n",
       "    </tr>\n",
       "  </thead>\n",
       "  <tbody>\n",
       "    <tr>\n",
       "      <th>0</th>\n",
       "      <td>19</td>\n",
       "      <td>0</td>\n",
       "      <td>27.900</td>\n",
       "      <td>0</td>\n",
       "      <td>1</td>\n",
       "      <td>3</td>\n",
       "      <td>9.734176</td>\n",
       "    </tr>\n",
       "    <tr>\n",
       "      <th>1</th>\n",
       "      <td>18</td>\n",
       "      <td>1</td>\n",
       "      <td>33.770</td>\n",
       "      <td>1</td>\n",
       "      <td>0</td>\n",
       "      <td>2</td>\n",
       "      <td>7.453302</td>\n",
       "    </tr>\n",
       "    <tr>\n",
       "      <th>2</th>\n",
       "      <td>28</td>\n",
       "      <td>1</td>\n",
       "      <td>33.000</td>\n",
       "      <td>3</td>\n",
       "      <td>0</td>\n",
       "      <td>2</td>\n",
       "      <td>8.400538</td>\n",
       "    </tr>\n",
       "    <tr>\n",
       "      <th>3</th>\n",
       "      <td>33</td>\n",
       "      <td>1</td>\n",
       "      <td>22.705</td>\n",
       "      <td>0</td>\n",
       "      <td>0</td>\n",
       "      <td>1</td>\n",
       "      <td>9.998092</td>\n",
       "    </tr>\n",
       "    <tr>\n",
       "      <th>4</th>\n",
       "      <td>32</td>\n",
       "      <td>1</td>\n",
       "      <td>28.880</td>\n",
       "      <td>0</td>\n",
       "      <td>0</td>\n",
       "      <td>1</td>\n",
       "      <td>8.260197</td>\n",
       "    </tr>\n",
       "    <tr>\n",
       "      <th>5</th>\n",
       "      <td>31</td>\n",
       "      <td>0</td>\n",
       "      <td>25.740</td>\n",
       "      <td>0</td>\n",
       "      <td>0</td>\n",
       "      <td>2</td>\n",
       "      <td>8.231275</td>\n",
       "    </tr>\n",
       "    <tr>\n",
       "      <th>6</th>\n",
       "      <td>46</td>\n",
       "      <td>0</td>\n",
       "      <td>33.440</td>\n",
       "      <td>1</td>\n",
       "      <td>0</td>\n",
       "      <td>2</td>\n",
       "      <td>9.016827</td>\n",
       "    </tr>\n",
       "    <tr>\n",
       "      <th>7</th>\n",
       "      <td>37</td>\n",
       "      <td>0</td>\n",
       "      <td>27.740</td>\n",
       "      <td>3</td>\n",
       "      <td>0</td>\n",
       "      <td>1</td>\n",
       "      <td>8.893093</td>\n",
       "    </tr>\n",
       "    <tr>\n",
       "      <th>8</th>\n",
       "      <td>37</td>\n",
       "      <td>1</td>\n",
       "      <td>29.830</td>\n",
       "      <td>2</td>\n",
       "      <td>0</td>\n",
       "      <td>0</td>\n",
       "      <td>8.765054</td>\n",
       "    </tr>\n",
       "    <tr>\n",
       "      <th>9</th>\n",
       "      <td>60</td>\n",
       "      <td>0</td>\n",
       "      <td>25.840</td>\n",
       "      <td>0</td>\n",
       "      <td>0</td>\n",
       "      <td>1</td>\n",
       "      <td>10.272397</td>\n",
       "    </tr>\n",
       "  </tbody>\n",
       "</table>\n",
       "</div>"
      ],
      "text/plain": [
       "   age  sex     bmi  children  smoker  region    charges\n",
       "0   19    0  27.900         0       1       3   9.734176\n",
       "1   18    1  33.770         1       0       2   7.453302\n",
       "2   28    1  33.000         3       0       2   8.400538\n",
       "3   33    1  22.705         0       0       1   9.998092\n",
       "4   32    1  28.880         0       0       1   8.260197\n",
       "5   31    0  25.740         0       0       2   8.231275\n",
       "6   46    0  33.440         1       0       2   9.016827\n",
       "7   37    0  27.740         3       0       1   8.893093\n",
       "8   37    1  29.830         2       0       0   8.765054\n",
       "9   60    0  25.840         0       0       1  10.272397"
      ]
     },
     "execution_count": 34,
     "metadata": {},
     "output_type": "execute_result"
    }
   ],
   "source": [
    "df.head(10)"
   ]
  },
  {
   "cell_type": "markdown",
   "id": "dc30bf12",
   "metadata": {},
   "source": [
    "we can see all categorical columns are converted in numerical col\n",
    "\n",
    "df['sex']-->'0' for 'female' and --> '1' for 'male'\n",
    "\n",
    "df['smoker']-->'0' for 'no' and --> '1' for 'yes'\n",
    "\n",
    "df['region']--> '0' for 'northeast',-->'1' for 'northwest',-->'2' for 'southeast' and --> '3' for 'southwest' \n"
   ]
  },
  {
   "cell_type": "code",
   "execution_count": 35,
   "id": "52693e50",
   "metadata": {},
   "outputs": [],
   "source": [
    "#Removing Outliers\n",
    "from scipy.stats import zscore"
   ]
  },
  {
   "cell_type": "code",
   "execution_count": 36,
   "id": "84ed5c97",
   "metadata": {},
   "outputs": [
    {
     "data": {
      "text/html": [
       "<div>\n",
       "<style scoped>\n",
       "    .dataframe tbody tr th:only-of-type {\n",
       "        vertical-align: middle;\n",
       "    }\n",
       "\n",
       "    .dataframe tbody tr th {\n",
       "        vertical-align: top;\n",
       "    }\n",
       "\n",
       "    .dataframe thead th {\n",
       "        text-align: right;\n",
       "    }\n",
       "</style>\n",
       "<table border=\"1\" class=\"dataframe\">\n",
       "  <thead>\n",
       "    <tr style=\"text-align: right;\">\n",
       "      <th></th>\n",
       "      <th>age</th>\n",
       "      <th>sex</th>\n",
       "      <th>bmi</th>\n",
       "      <th>children</th>\n",
       "      <th>smoker</th>\n",
       "      <th>region</th>\n",
       "      <th>charges</th>\n",
       "    </tr>\n",
       "  </thead>\n",
       "  <tbody>\n",
       "    <tr>\n",
       "      <th>0</th>\n",
       "      <td>1.438764</td>\n",
       "      <td>1.010519</td>\n",
       "      <td>0.453320</td>\n",
       "      <td>0.908614</td>\n",
       "      <td>1.970587</td>\n",
       "      <td>1.343905</td>\n",
       "      <td>0.691394</td>\n",
       "    </tr>\n",
       "    <tr>\n",
       "      <th>1</th>\n",
       "      <td>1.509965</td>\n",
       "      <td>0.989591</td>\n",
       "      <td>0.509621</td>\n",
       "      <td>0.078767</td>\n",
       "      <td>0.507463</td>\n",
       "      <td>0.438495</td>\n",
       "      <td>1.790020</td>\n",
       "    </tr>\n",
       "    <tr>\n",
       "      <th>2</th>\n",
       "      <td>0.797954</td>\n",
       "      <td>0.989591</td>\n",
       "      <td>0.383307</td>\n",
       "      <td>1.580926</td>\n",
       "      <td>0.507463</td>\n",
       "      <td>0.438495</td>\n",
       "      <td>0.759500</td>\n",
       "    </tr>\n",
       "    <tr>\n",
       "      <th>3</th>\n",
       "      <td>0.441948</td>\n",
       "      <td>0.989591</td>\n",
       "      <td>1.305531</td>\n",
       "      <td>0.908614</td>\n",
       "      <td>0.507463</td>\n",
       "      <td>0.466915</td>\n",
       "      <td>0.978513</td>\n",
       "    </tr>\n",
       "    <tr>\n",
       "      <th>4</th>\n",
       "      <td>0.513149</td>\n",
       "      <td>0.989591</td>\n",
       "      <td>0.292556</td>\n",
       "      <td>0.908614</td>\n",
       "      <td>0.507463</td>\n",
       "      <td>0.466915</td>\n",
       "      <td>0.912181</td>\n",
       "    </tr>\n",
       "    <tr>\n",
       "      <th>...</th>\n",
       "      <td>...</td>\n",
       "      <td>...</td>\n",
       "      <td>...</td>\n",
       "      <td>...</td>\n",
       "      <td>...</td>\n",
       "      <td>...</td>\n",
       "      <td>...</td>\n",
       "    </tr>\n",
       "    <tr>\n",
       "      <th>1333</th>\n",
       "      <td>0.768473</td>\n",
       "      <td>0.989591</td>\n",
       "      <td>0.050297</td>\n",
       "      <td>1.580926</td>\n",
       "      <td>0.507463</td>\n",
       "      <td>0.466915</td>\n",
       "      <td>0.184949</td>\n",
       "    </tr>\n",
       "    <tr>\n",
       "      <th>1334</th>\n",
       "      <td>1.509965</td>\n",
       "      <td>1.010519</td>\n",
       "      <td>0.206139</td>\n",
       "      <td>0.908614</td>\n",
       "      <td>0.507463</td>\n",
       "      <td>1.372326</td>\n",
       "      <td>1.522799</td>\n",
       "    </tr>\n",
       "    <tr>\n",
       "      <th>1335</th>\n",
       "      <td>1.509965</td>\n",
       "      <td>1.010519</td>\n",
       "      <td>1.014878</td>\n",
       "      <td>0.908614</td>\n",
       "      <td>0.507463</td>\n",
       "      <td>0.438495</td>\n",
       "      <td>1.852106</td>\n",
       "    </tr>\n",
       "    <tr>\n",
       "      <th>1336</th>\n",
       "      <td>1.296362</td>\n",
       "      <td>1.010519</td>\n",
       "      <td>0.797813</td>\n",
       "      <td>0.908614</td>\n",
       "      <td>0.507463</td>\n",
       "      <td>1.343905</td>\n",
       "      <td>1.625129</td>\n",
       "    </tr>\n",
       "    <tr>\n",
       "      <th>1337</th>\n",
       "      <td>1.551686</td>\n",
       "      <td>1.010519</td>\n",
       "      <td>0.261388</td>\n",
       "      <td>0.908614</td>\n",
       "      <td>1.970587</td>\n",
       "      <td>0.466915</td>\n",
       "      <td>1.285113</td>\n",
       "    </tr>\n",
       "  </tbody>\n",
       "</table>\n",
       "<p>1338 rows × 7 columns</p>\n",
       "</div>"
      ],
      "text/plain": [
       "           age       sex       bmi  children    smoker    region   charges\n",
       "0     1.438764  1.010519  0.453320  0.908614  1.970587  1.343905  0.691394\n",
       "1     1.509965  0.989591  0.509621  0.078767  0.507463  0.438495  1.790020\n",
       "2     0.797954  0.989591  0.383307  1.580926  0.507463  0.438495  0.759500\n",
       "3     0.441948  0.989591  1.305531  0.908614  0.507463  0.466915  0.978513\n",
       "4     0.513149  0.989591  0.292556  0.908614  0.507463  0.466915  0.912181\n",
       "...        ...       ...       ...       ...       ...       ...       ...\n",
       "1333  0.768473  0.989591  0.050297  1.580926  0.507463  0.466915  0.184949\n",
       "1334  1.509965  1.010519  0.206139  0.908614  0.507463  1.372326  1.522799\n",
       "1335  1.509965  1.010519  1.014878  0.908614  0.507463  0.438495  1.852106\n",
       "1336  1.296362  1.010519  0.797813  0.908614  0.507463  1.343905  1.625129\n",
       "1337  1.551686  1.010519  0.261388  0.908614  1.970587  0.466915  1.285113\n",
       "\n",
       "[1338 rows x 7 columns]"
      ]
     },
     "execution_count": 36,
     "metadata": {},
     "output_type": "execute_result"
    }
   ],
   "source": [
    "z=np.abs(zscore(df))\n",
    "z"
   ]
  },
  {
   "cell_type": "code",
   "execution_count": 37,
   "id": "9d8dbb3c",
   "metadata": {},
   "outputs": [
    {
     "name": "stdout",
     "output_type": "stream",
     "text": [
      "(array([  32,   71,  116,  166,  413,  425,  438,  568,  640,  847,  877,\n",
      "        932,  937,  969,  984, 1047, 1085, 1116, 1130, 1245, 1272, 1317],\n",
      "      dtype=int64), array([3, 3, 2, 3, 3, 3, 3, 3, 3, 2, 3, 3, 3, 3, 3, 2, 3, 3, 3, 3, 3, 2],\n",
      "      dtype=int64))\n"
     ]
    }
   ],
   "source": [
    "threshold=3\n",
    "print(np.where(z>3))"
   ]
  },
  {
   "cell_type": "code",
   "execution_count": 38,
   "id": "d368a25b",
   "metadata": {},
   "outputs": [
    {
     "data": {
      "text/html": [
       "<div>\n",
       "<style scoped>\n",
       "    .dataframe tbody tr th:only-of-type {\n",
       "        vertical-align: middle;\n",
       "    }\n",
       "\n",
       "    .dataframe tbody tr th {\n",
       "        vertical-align: top;\n",
       "    }\n",
       "\n",
       "    .dataframe thead th {\n",
       "        text-align: right;\n",
       "    }\n",
       "</style>\n",
       "<table border=\"1\" class=\"dataframe\">\n",
       "  <thead>\n",
       "    <tr style=\"text-align: right;\">\n",
       "      <th></th>\n",
       "      <th>age</th>\n",
       "      <th>sex</th>\n",
       "      <th>bmi</th>\n",
       "      <th>children</th>\n",
       "      <th>smoker</th>\n",
       "      <th>region</th>\n",
       "      <th>charges</th>\n",
       "    </tr>\n",
       "  </thead>\n",
       "  <tbody>\n",
       "    <tr>\n",
       "      <th>0</th>\n",
       "      <td>19</td>\n",
       "      <td>0</td>\n",
       "      <td>27.900</td>\n",
       "      <td>0</td>\n",
       "      <td>1</td>\n",
       "      <td>3</td>\n",
       "      <td>9.734176</td>\n",
       "    </tr>\n",
       "    <tr>\n",
       "      <th>1</th>\n",
       "      <td>18</td>\n",
       "      <td>1</td>\n",
       "      <td>33.770</td>\n",
       "      <td>1</td>\n",
       "      <td>0</td>\n",
       "      <td>2</td>\n",
       "      <td>7.453302</td>\n",
       "    </tr>\n",
       "    <tr>\n",
       "      <th>2</th>\n",
       "      <td>28</td>\n",
       "      <td>1</td>\n",
       "      <td>33.000</td>\n",
       "      <td>3</td>\n",
       "      <td>0</td>\n",
       "      <td>2</td>\n",
       "      <td>8.400538</td>\n",
       "    </tr>\n",
       "    <tr>\n",
       "      <th>3</th>\n",
       "      <td>33</td>\n",
       "      <td>1</td>\n",
       "      <td>22.705</td>\n",
       "      <td>0</td>\n",
       "      <td>0</td>\n",
       "      <td>1</td>\n",
       "      <td>9.998092</td>\n",
       "    </tr>\n",
       "    <tr>\n",
       "      <th>4</th>\n",
       "      <td>32</td>\n",
       "      <td>1</td>\n",
       "      <td>28.880</td>\n",
       "      <td>0</td>\n",
       "      <td>0</td>\n",
       "      <td>1</td>\n",
       "      <td>8.260197</td>\n",
       "    </tr>\n",
       "    <tr>\n",
       "      <th>...</th>\n",
       "      <td>...</td>\n",
       "      <td>...</td>\n",
       "      <td>...</td>\n",
       "      <td>...</td>\n",
       "      <td>...</td>\n",
       "      <td>...</td>\n",
       "      <td>...</td>\n",
       "    </tr>\n",
       "    <tr>\n",
       "      <th>1333</th>\n",
       "      <td>50</td>\n",
       "      <td>1</td>\n",
       "      <td>30.970</td>\n",
       "      <td>3</td>\n",
       "      <td>0</td>\n",
       "      <td>1</td>\n",
       "      <td>9.268661</td>\n",
       "    </tr>\n",
       "    <tr>\n",
       "      <th>1334</th>\n",
       "      <td>18</td>\n",
       "      <td>0</td>\n",
       "      <td>31.920</td>\n",
       "      <td>0</td>\n",
       "      <td>0</td>\n",
       "      <td>0</td>\n",
       "      <td>7.698927</td>\n",
       "    </tr>\n",
       "    <tr>\n",
       "      <th>1335</th>\n",
       "      <td>18</td>\n",
       "      <td>0</td>\n",
       "      <td>36.850</td>\n",
       "      <td>0</td>\n",
       "      <td>0</td>\n",
       "      <td>2</td>\n",
       "      <td>7.396233</td>\n",
       "    </tr>\n",
       "    <tr>\n",
       "      <th>1336</th>\n",
       "      <td>21</td>\n",
       "      <td>0</td>\n",
       "      <td>25.800</td>\n",
       "      <td>0</td>\n",
       "      <td>0</td>\n",
       "      <td>3</td>\n",
       "      <td>7.604867</td>\n",
       "    </tr>\n",
       "    <tr>\n",
       "      <th>1337</th>\n",
       "      <td>61</td>\n",
       "      <td>0</td>\n",
       "      <td>29.070</td>\n",
       "      <td>0</td>\n",
       "      <td>1</td>\n",
       "      <td>1</td>\n",
       "      <td>10.279914</td>\n",
       "    </tr>\n",
       "  </tbody>\n",
       "</table>\n",
       "<p>1316 rows × 7 columns</p>\n",
       "</div>"
      ],
      "text/plain": [
       "      age  sex     bmi  children  smoker  region    charges\n",
       "0      19    0  27.900         0       1       3   9.734176\n",
       "1      18    1  33.770         1       0       2   7.453302\n",
       "2      28    1  33.000         3       0       2   8.400538\n",
       "3      33    1  22.705         0       0       1   9.998092\n",
       "4      32    1  28.880         0       0       1   8.260197\n",
       "...   ...  ...     ...       ...     ...     ...        ...\n",
       "1333   50    1  30.970         3       0       1   9.268661\n",
       "1334   18    0  31.920         0       0       0   7.698927\n",
       "1335   18    0  36.850         0       0       2   7.396233\n",
       "1336   21    0  25.800         0       0       3   7.604867\n",
       "1337   61    0  29.070         0       1       1  10.279914\n",
       "\n",
       "[1316 rows x 7 columns]"
      ]
     },
     "execution_count": 38,
     "metadata": {},
     "output_type": "execute_result"
    }
   ],
   "source": [
    "df=df[(z<3).all(axis=1)]\n",
    "df"
   ]
  },
  {
   "cell_type": "code",
   "execution_count": 39,
   "id": "fea4c640",
   "metadata": {},
   "outputs": [
    {
     "data": {
      "text/html": [
       "<div>\n",
       "<style scoped>\n",
       "    .dataframe tbody tr th:only-of-type {\n",
       "        vertical-align: middle;\n",
       "    }\n",
       "\n",
       "    .dataframe tbody tr th {\n",
       "        vertical-align: top;\n",
       "    }\n",
       "\n",
       "    .dataframe thead th {\n",
       "        text-align: right;\n",
       "    }\n",
       "</style>\n",
       "<table border=\"1\" class=\"dataframe\">\n",
       "  <thead>\n",
       "    <tr style=\"text-align: right;\">\n",
       "      <th></th>\n",
       "      <th>age</th>\n",
       "      <th>sex</th>\n",
       "      <th>bmi</th>\n",
       "      <th>children</th>\n",
       "      <th>smoker</th>\n",
       "      <th>region</th>\n",
       "    </tr>\n",
       "  </thead>\n",
       "  <tbody>\n",
       "    <tr>\n",
       "      <th>0</th>\n",
       "      <td>19</td>\n",
       "      <td>0</td>\n",
       "      <td>27.900</td>\n",
       "      <td>0</td>\n",
       "      <td>1</td>\n",
       "      <td>3</td>\n",
       "    </tr>\n",
       "    <tr>\n",
       "      <th>1</th>\n",
       "      <td>18</td>\n",
       "      <td>1</td>\n",
       "      <td>33.770</td>\n",
       "      <td>1</td>\n",
       "      <td>0</td>\n",
       "      <td>2</td>\n",
       "    </tr>\n",
       "    <tr>\n",
       "      <th>2</th>\n",
       "      <td>28</td>\n",
       "      <td>1</td>\n",
       "      <td>33.000</td>\n",
       "      <td>3</td>\n",
       "      <td>0</td>\n",
       "      <td>2</td>\n",
       "    </tr>\n",
       "    <tr>\n",
       "      <th>3</th>\n",
       "      <td>33</td>\n",
       "      <td>1</td>\n",
       "      <td>22.705</td>\n",
       "      <td>0</td>\n",
       "      <td>0</td>\n",
       "      <td>1</td>\n",
       "    </tr>\n",
       "    <tr>\n",
       "      <th>4</th>\n",
       "      <td>32</td>\n",
       "      <td>1</td>\n",
       "      <td>28.880</td>\n",
       "      <td>0</td>\n",
       "      <td>0</td>\n",
       "      <td>1</td>\n",
       "    </tr>\n",
       "    <tr>\n",
       "      <th>...</th>\n",
       "      <td>...</td>\n",
       "      <td>...</td>\n",
       "      <td>...</td>\n",
       "      <td>...</td>\n",
       "      <td>...</td>\n",
       "      <td>...</td>\n",
       "    </tr>\n",
       "    <tr>\n",
       "      <th>1333</th>\n",
       "      <td>50</td>\n",
       "      <td>1</td>\n",
       "      <td>30.970</td>\n",
       "      <td>3</td>\n",
       "      <td>0</td>\n",
       "      <td>1</td>\n",
       "    </tr>\n",
       "    <tr>\n",
       "      <th>1334</th>\n",
       "      <td>18</td>\n",
       "      <td>0</td>\n",
       "      <td>31.920</td>\n",
       "      <td>0</td>\n",
       "      <td>0</td>\n",
       "      <td>0</td>\n",
       "    </tr>\n",
       "    <tr>\n",
       "      <th>1335</th>\n",
       "      <td>18</td>\n",
       "      <td>0</td>\n",
       "      <td>36.850</td>\n",
       "      <td>0</td>\n",
       "      <td>0</td>\n",
       "      <td>2</td>\n",
       "    </tr>\n",
       "    <tr>\n",
       "      <th>1336</th>\n",
       "      <td>21</td>\n",
       "      <td>0</td>\n",
       "      <td>25.800</td>\n",
       "      <td>0</td>\n",
       "      <td>0</td>\n",
       "      <td>3</td>\n",
       "    </tr>\n",
       "    <tr>\n",
       "      <th>1337</th>\n",
       "      <td>61</td>\n",
       "      <td>0</td>\n",
       "      <td>29.070</td>\n",
       "      <td>0</td>\n",
       "      <td>1</td>\n",
       "      <td>1</td>\n",
       "    </tr>\n",
       "  </tbody>\n",
       "</table>\n",
       "<p>1316 rows × 6 columns</p>\n",
       "</div>"
      ],
      "text/plain": [
       "      age  sex     bmi  children  smoker  region\n",
       "0      19    0  27.900         0       1       3\n",
       "1      18    1  33.770         1       0       2\n",
       "2      28    1  33.000         3       0       2\n",
       "3      33    1  22.705         0       0       1\n",
       "4      32    1  28.880         0       0       1\n",
       "...   ...  ...     ...       ...     ...     ...\n",
       "1333   50    1  30.970         3       0       1\n",
       "1334   18    0  31.920         0       0       0\n",
       "1335   18    0  36.850         0       0       2\n",
       "1336   21    0  25.800         0       0       3\n",
       "1337   61    0  29.070         0       1       1\n",
       "\n",
       "[1316 rows x 6 columns]"
      ]
     },
     "execution_count": 39,
     "metadata": {},
     "output_type": "execute_result"
    }
   ],
   "source": [
    "# split the data into x and y\n",
    "x=df.drop(['charges'],axis=1)\n",
    "x"
   ]
  },
  {
   "cell_type": "code",
   "execution_count": 40,
   "id": "b2186913",
   "metadata": {},
   "outputs": [
    {
     "data": {
      "text/plain": [
       "0        9.734176\n",
       "1        7.453302\n",
       "2        8.400538\n",
       "3        9.998092\n",
       "4        8.260197\n",
       "          ...    \n",
       "1333     9.268661\n",
       "1334     7.698927\n",
       "1335     7.396233\n",
       "1336     7.604867\n",
       "1337    10.279914\n",
       "Name: charges, Length: 1316, dtype: float64"
      ]
     },
     "execution_count": 40,
     "metadata": {},
     "output_type": "execute_result"
    }
   ],
   "source": [
    "y=df['charges']\n",
    "y"
   ]
  },
  {
   "cell_type": "code",
   "execution_count": 41,
   "id": "c7695f1b",
   "metadata": {},
   "outputs": [],
   "source": [
    "# scaling\n",
    "from sklearn.preprocessing import StandardScaler\n",
    "st=StandardScaler()"
   ]
  },
  {
   "cell_type": "code",
   "execution_count": 42,
   "id": "ee31bc2d",
   "metadata": {},
   "outputs": [
    {
     "data": {
      "text/plain": [
       "array([[-1.4414442 , -1.00609762, -0.45376763, -0.92823448,  1.95914147,\n",
       "         1.35208943],\n",
       "       [-1.5125093 ,  0.99393934,  0.52723912, -0.03853559, -0.51042766,\n",
       "         0.44656796],\n",
       "       [-0.80185835,  0.99393934,  0.3985551 ,  1.74086219, -0.51042766,\n",
       "         0.44656796],\n",
       "       ...,\n",
       "       [-1.5125093 , -1.00609762,  1.04197521, -0.92823448, -0.51042766,\n",
       "         0.44656796],\n",
       "       [-1.29931401, -1.00609762, -0.80472404, -0.92823448, -0.51042766,\n",
       "         1.35208943],\n",
       "       [ 1.54328977, -1.00609762, -0.25823476, -0.92823448,  1.95914147,\n",
       "        -0.45895351]])"
      ]
     },
     "execution_count": 42,
     "metadata": {},
     "output_type": "execute_result"
    }
   ],
   "source": [
    "x=st.fit_transform(x)\n",
    "x"
   ]
  },
  {
   "cell_type": "code",
   "execution_count": 43,
   "id": "3aa4ecb3",
   "metadata": {},
   "outputs": [],
   "source": [
    "# split into train and test\n",
    "x_train,x_test,y_train,y_test=train_test_split(x,y,test_size=0.20,random_state=42)"
   ]
  },
  {
   "cell_type": "code",
   "execution_count": 44,
   "id": "f02c174b",
   "metadata": {},
   "outputs": [
    {
     "data": {
      "text/plain": [
       "((1052, 6), (1052,), (264, 6), (264,))"
      ]
     },
     "execution_count": 44,
     "metadata": {},
     "output_type": "execute_result"
    }
   ],
   "source": [
    "x_train.shape,y_train.shape,x_test.shape,y_test.shape\n",
    "\n",
    "\n"
   ]
  },
  {
   "cell_type": "code",
   "execution_count": 45,
   "id": "a42360a1",
   "metadata": {},
   "outputs": [],
   "source": [
    "from sklearn.linear_model import LinearRegression\n",
    "lr=LinearRegression()"
   ]
  },
  {
   "cell_type": "code",
   "execution_count": 46,
   "id": "ea0e9008",
   "metadata": {},
   "outputs": [
    {
     "name": "stdout",
     "output_type": "stream",
     "text": [
      "r2_score : 0.7815457419591416\n",
      "r2_score on training data : 76.34138140342476\n",
      "mean_absolute_error : 0.27261708460194506\n",
      "mean_squared_error : 0.18136560252613954\n",
      "root_mean_squared_error: 0.4258704057881218\n"
     ]
    }
   ],
   "source": [
    "lr.fit(x_train,y_train)\n",
    "lrpred=lr.predict(x_test)\n",
    "lrpred_train=lr.predict(x_train)\n",
    "print(\"r2_score :\",r2_score(y_test,lrpred))\n",
    "print(\"r2_score on training data :\",r2_score(y_train,lrpred_train)*100)\n",
    "print(\"mean_absolute_error :\" ,mean_absolute_error(y_test,lrpred))\n",
    "print(\"mean_squared_error :\",mean_squared_error(y_test,lrpred))\n",
    "print(\"root_mean_squared_error:\" ,np.sqrt(mean_squared_error(y_test,lrpred)))"
   ]
  },
  {
   "cell_type": "code",
   "execution_count": 47,
   "id": "ed2e7e27",
   "metadata": {},
   "outputs": [
    {
     "data": {
      "image/png": "[encoded data removed]",
      "text/plain": [
       "<Figure size 640x480 with 1 Axes>"
      ]
     },
     "metadata": {},
     "output_type": "display_data"
    }
   ],
   "source": [
    "plt.scatter(y_test,lrpred)\n",
    "plt.xlabel('True values')\n",
    "plt.ylabel('predicted values')\n",
    "plt.show()"
   ]
  },
  {
   "cell_type": "code",
   "execution_count": 49,
   "id": "0f18f7de",
   "metadata": {},
   "outputs": [],
   "source": [
    "from sklearn.model_selection import GridSearchCV\n"
   ]
  },
  {
   "cell_type": "code",
   "execution_count": 50,
   "id": "4503df18",
   "metadata": {},
   "outputs": [],
   "source": [
    "from sklearn.linear_model import Lasso,Ridge\n",
    "ls=Lasso()\n",
    "rd=Ridge()\n"
   ]
  },
  {
   "cell_type": "code",
   "execution_count": 51,
   "id": "ef400ff4",
   "metadata": {},
   "outputs": [],
   "source": [
    "dict1={\"alpha\":[.0001,.001,.01,.1,1]}\n",
    "gsv=GridSearchCV(estimator=ls,param_grid=dict1)"
   ]
  },
  {
   "cell_type": "code",
   "execution_count": 52,
   "id": "0aef08f9",
   "metadata": {},
   "outputs": [
    {
     "name": "stdout",
     "output_type": "stream",
     "text": [
      "{'alpha': 0.0001}\n",
      "0.7581856020192939\n",
      "0.0001\n"
     ]
    }
   ],
   "source": [
    "gsv.fit(x_train,y_train)\n",
    "print(gsv.best_params_)\n",
    "print(gsv.best_score_)\n",
    "print(gsv.best_estimator_.alpha)"
   ]
  },
  {
   "cell_type": "code",
   "execution_count": 53,
   "id": "ed00e74f",
   "metadata": {},
   "outputs": [
    {
     "name": "stdout",
     "output_type": "stream",
     "text": [
      "r2_score: 0.7815922562412795\n",
      "r2-score on training data: 76.34137412994771\n",
      "mean_squared_error: 0.18132698533056898\n",
      "roor_mean_squared_error: 0.425825064234797\n",
      "mean_absolute_error: 0.2725705464196685\n"
     ]
    }
   ],
   "source": [
    "ls=Lasso(alpha=.0001)\n",
    "ls.fit(x_train,y_train)\n",
    "lspred=ls.predict(x_test)\n",
    "lspred_train=ls.predict(x_train)\n",
    "print(\"r2_score:\", r2_score(y_test,lspred))\n",
    "print(\"r2-score on training data:\", r2_score(y_train,lspred_train)*100)\n",
    "print(\"mean_squared_error:\", mean_squared_error(y_test,lspred))\n",
    "print(\"roor_mean_squared_error:\", np.sqrt(mean_squared_error(y_test,lspred)))\n",
    "print(\"mean_absolute_error:\",mean_absolute_error(y_test,lspred))"
   ]
  },
  {
   "cell_type": "code",
   "execution_count": 54,
   "id": "ac5693fb",
   "metadata": {},
   "outputs": [
    {
     "name": "stdout",
     "output_type": "stream",
     "text": [
      "{'alpha': 1}\n",
      "0.7581870392726524\n",
      "1\n"
     ]
    }
   ],
   "source": [
    "gsv=GridSearchCV(estimator=rd,param_grid=dict1)\n",
    "gsv.fit(x_train,y_train)\n",
    "print(gsv.best_params_)\n",
    "print(gsv.best_score_)\n",
    "print(gsv.best_estimator_.alpha)"
   ]
  },
  {
   "cell_type": "code",
   "execution_count": 55,
   "id": "9556ec51",
   "metadata": {},
   "outputs": [
    {
     "name": "stdout",
     "output_type": "stream",
     "text": [
      "r2_score: 0.7816386405887452\n",
      "r2-score on training data: 76.34130842151178\n",
      "mean_squared_error: 0.18128847600966425\n",
      "roor_mean_squared_error: 0.42577984453196493\n",
      "mean_absolute_error: 0.27269625131824066\n"
     ]
    }
   ],
   "source": [
    "rd=Ridge(alpha=1)\n",
    "rd.fit(x_train,y_train)\n",
    "rdpred=rd.predict(x_test)\n",
    "rdpred_train=rd.predict(x_train)\n",
    "print(\"r2_score:\", r2_score(y_test,rdpred))\n",
    "print(\"r2-score on training data:\", r2_score(y_train,rdpred_train)*100)\n",
    "print(\"mean_squared_error:\", mean_squared_error(y_test,rdpred))\n",
    "print(\"roor_mean_squared_error:\", np.sqrt(mean_squared_error(y_test,rdpred)))\n",
    "print(\"mean_absolute_error:\",mean_absolute_error(y_test,rdpred))"
   ]
  },
  {
   "cell_type": "code",
   "execution_count": 56,
   "id": "f48e8c89",
   "metadata": {},
   "outputs": [
    {
     "data": {
      "text/plain": [
       "array([ 0.48474841, -0.04624649,  0.08076525,  0.12629251,  0.63618334,\n",
       "       -0.06101022])"
      ]
     },
     "execution_count": 56,
     "metadata": {},
     "output_type": "execute_result"
    }
   ],
   "source": [
    "ls.coef_\n"
   ]
  },
  {
   "cell_type": "code",
   "execution_count": 57,
   "id": "d95afa80",
   "metadata": {},
   "outputs": [
    {
     "data": {
      "text/plain": [
       "array([ 0.48434946, -0.04626981,  0.08084871,  0.12630063,  0.63566185,\n",
       "       -0.06106627])"
      ]
     },
     "execution_count": 57,
     "metadata": {},
     "output_type": "execute_result"
    }
   ],
   "source": [
    "rd.coef_"
   ]
  },
  {
   "cell_type": "code",
   "execution_count": 58,
   "id": "16665c82",
   "metadata": {},
   "outputs": [
    {
     "data": {
      "text/plain": [
       "array([ 0.48483154, -0.04636113,  0.08087205,  0.12638167,  0.63629604,\n",
       "       -0.06112594])"
      ]
     },
     "execution_count": 58,
     "metadata": {},
     "output_type": "execute_result"
    }
   ],
   "source": [
    "lr.coef_"
   ]
  },
  {
   "cell_type": "code",
   "execution_count": 61,
   "id": "32a75e37",
   "metadata": {},
   "outputs": [
    {
     "data": {
      "image/png": "[encoded data removed]",
      "text/plain": [
       "<Figure size 640x480 with 1 Axes>"
      ]
     },
     "metadata": {},
     "output_type": "display_data"
    }
   ],
   "source": [
    "sns.regplot(y_test,rdpred)\n",
    "plt.xlabel(\"True Values\")\n",
    "plt.ylabel(\"predicted Values\")\n",
    "plt.show()"
   ]
  },
  {
   "cell_type": "code",
   "execution_count": 62,
   "id": "5e8371d4",
   "metadata": {},
   "outputs": [],
   "source": [
    "from sklearn.svm import SVR\n",
    "from sklearn.neighbors import KNeighborsRegressor\n",
    "from sklearn.tree import DecisionTreeRegressor"
   ]
  },
  {
   "cell_type": "code",
   "execution_count": 63,
   "id": "619db16f",
   "metadata": {},
   "outputs": [],
   "source": [
    "svr=SVR()\n",
    "knn=KNeighborsRegressor()\n",
    "dtc=DecisionTreeRegressor()"
   ]
  },
  {
   "cell_type": "code",
   "execution_count": 64,
   "id": "1fc63f2e",
   "metadata": {},
   "outputs": [
    {
     "name": "stdout",
     "output_type": "stream",
     "text": [
      "r2_score: 0.7308000374363757\n",
      "r2-score on training data: 99.7134370997939\n",
      "mean_squared_error: 0.22349581943710284\n",
      "root_mean_squared_error: 0.47275344465916147\n",
      "mean_absolute_error: 0.213946439161368\n"
     ]
    }
   ],
   "source": [
    "\n",
    "dtc.fit(x_train,y_train)\n",
    "dtcpred=dtc.predict(x_test)\n",
    "dtcpred_train=dtc.predict(x_train)\n",
    "print(\"r2_score:\", r2_score(y_test,dtcpred))\n",
    "print(\"r2-score on training data:\", r2_score(y_train,dtcpred_train)*100)\n",
    "print(\"mean_squared_error:\", mean_squared_error(y_test,dtcpred))\n",
    "print(\"root_mean_squared_error:\", np.sqrt(mean_squared_error(y_test,dtcpred)))\n",
    "print(\"mean_absolute_error:\",mean_absolute_error(y_test,dtcpred))"
   ]
  },
  {
   "cell_type": "code",
   "execution_count": 65,
   "id": "dc5c79bf",
   "metadata": {},
   "outputs": [
    {
     "name": "stdout",
     "output_type": "stream",
     "text": [
      "r2_score: 0.8174732023710416\n",
      "r2-score on training data: 86.09586612565992\n",
      "mean_squared_error: 0.15153782272786462\n",
      "root_mean_squared_error: 0.38927859269148696\n",
      "mean_absolute_error: 0.22817923470297996\n"
     ]
    }
   ],
   "source": [
    "knn.fit(x_train,y_train)\n",
    "knnpred=knn.predict(x_test)\n",
    "knnpred_train=knn.predict(x_train)\n",
    "print(\"r2_score:\", r2_score(y_test,knnpred))\n",
    "print(\"r2-score on training data:\", r2_score(y_train,knnpred_train)*100)\n",
    "print(\"mean_squared_error:\", mean_squared_error(y_test,knnpred))\n",
    "print(\"root_mean_squared_error:\", np.sqrt(mean_squared_error(y_test,knnpred)))\n",
    "print(\"mean_absolute_error:\",mean_absolute_error(y_test,knnpred))"
   ]
  },
  {
   "cell_type": "code",
   "execution_count": 66,
   "id": "4f5d8d72",
   "metadata": {},
   "outputs": [
    {
     "name": "stdout",
     "output_type": "stream",
     "text": [
      "0.8237085413295023\n",
      "SVR(C=1)\n",
      "{'C': 1, 'kernel': 'rbf'}\n"
     ]
    }
   ],
   "source": [
    "svm=SVR()\n",
    "parameters={'kernel':['rbf','linear','poly'],'C':[1,10]}\n",
    "gv=GridSearchCV(svm,parameters)\n",
    "gv.fit(x_train,y_train)\n",
    "print(gv.best_score_)\n",
    "print(gv.best_estimator_)\n",
    "print(gv.best_params_)"
   ]
  },
  {
   "cell_type": "markdown",
   "id": "6aad3b74",
   "metadata": {},
   "source": [
    "by the hyper parametric tunning rbf is the best parameter"
   ]
  },
  {
   "cell_type": "code",
   "execution_count": 67,
   "id": "24874405",
   "metadata": {},
   "outputs": [
    {
     "name": "stdout",
     "output_type": "stream",
     "text": [
      "r2_score: 0.8174732023710416\n",
      "r2-score on training data: 83.82342002520079\n",
      "mean_squared_error: 0.15153782272786462\n",
      "root_mean_squared_error: 0.38927859269148696\n",
      "mean_absolute_error: 0.22817923470297996\n"
     ]
    }
   ],
   "source": [
    "svm=SVR(kernel='rbf',C=1)\n",
    "svm.fit(x_train,y_train)\n",
    "svmpred=knn.predict(x_test)\n",
    "svmpred_train=svm.predict(x_train)\n",
    "print(\"r2_score:\", r2_score(y_test,svmpred))\n",
    "print(\"r2-score on training data:\", r2_score(y_train,svmpred_train)*100)\n",
    "print(\"mean_squared_error:\", mean_squared_error(y_test,svmpred))\n",
    "print(\"root_mean_squared_error:\", np.sqrt(mean_squared_error(y_test,svmpred)))\n",
    "print(\"mean_absolute_error:\",mean_absolute_error(y_test,svmpred))"
   ]
  },
  {
   "cell_type": "code",
   "execution_count": 69,
   "id": "efe3b02d",
   "metadata": {},
   "outputs": [],
   "source": [
    "from sklearn.ensemble import RandomForestRegressor\n"
   ]
  },
  {
   "cell_type": "code",
   "execution_count": 70,
   "id": "113a3022",
   "metadata": {},
   "outputs": [
    {
     "name": "stdout",
     "output_type": "stream",
     "text": [
      "r2_score: 0.8340102814482064\n",
      "r2-score on training data: 96.93592946173543\n",
      "mean_squared_error: 0.13780837044915706\n",
      "root_mean_squared_error: 0.3712254981128816\n",
      "mean_absolute_error: 0.19405381593166618\n"
     ]
    }
   ],
   "source": [
    "forest=RandomForestRegressor()\n",
    "forest.fit(x_train,y_train)\n",
    "forestpred=forest.predict(x_test)\n",
    "forestpred_train=forest.predict(x_train)\n",
    "print(\"r2_score:\", r2_score(y_test,forestpred))\n",
    "print(\"r2-score on training data:\", r2_score(y_train,forestpred_train)*100)\n",
    "print(\"mean_squared_error:\", mean_squared_error(y_test,forestpred))\n",
    "print(\"root_mean_squared_error:\", np.sqrt(mean_squared_error(y_test,forestpred)))\n",
    "print(\"mean_absolute_error:\",mean_absolute_error(y_test,forestpred))\n"
   ]
  },
  {
   "cell_type": "code",
   "execution_count": 71,
   "id": "c19f6af8",
   "metadata": {},
   "outputs": [
    {
     "name": "stderr",
     "output_type": "stream",
     "text": [
      "C:\\Users\\A\\folder\\lib\\site-packages\\seaborn\\_decorators.py:36: FutureWarning: Pass the following variables as keyword args: x, y. From version 0.12, the only valid positional argument will be `data`, and passing other arguments without an explicit keyword will result in an error or misinterpretation.\n",
      "  warnings.warn(\n"
     ]
    },
    {
     "data": {
      "image/png": "[encoded data removed]",
      "text/plain": [
       "<Figure size 640x480 with 1 Axes>"
      ]
     },
     "metadata": {},
     "output_type": "display_data"
    }
   ],
   "source": [
    "sns.regplot(y_test,forestpred)\n",
    "plt.xlabel(\"True values\")\n",
    "plt.ylabel(\"Predicted values\")\n",
    "plt.show()"
   ]
  },
  {
   "cell_type": "code",
   "execution_count": 72,
   "id": "23811816",
   "metadata": {},
   "outputs": [],
   "source": [
    "from sklearn.ensemble import GradientBoostingRegressor\n"
   ]
  },
  {
   "cell_type": "code",
   "execution_count": 73,
   "id": "63e84b00",
   "metadata": {},
   "outputs": [
    {
     "name": "stdout",
     "output_type": "stream",
     "text": [
      "r2_score: 0.8523861190815043\n",
      "r2-score on training data: 88.32383677720243\n",
      "mean_squared_error: 0.1225523397625763\n",
      "root_mean_squared_error: 0.35007476310436364\n",
      "mean_absolute_error: 0.1896980609757062\n"
     ]
    }
   ],
   "source": [
    "gbr=GradientBoostingRegressor()\n",
    "gbr.fit(x_train,y_train)\n",
    "gbrpred=gbr.predict(x_test)\n",
    "gbrpred_train=gbr.predict(x_train)\n",
    "print(\"r2_score:\", r2_score(y_test,gbrpred))\n",
    "print(\"r2-score on training data:\", r2_score(y_train,gbrpred_train)*100)\n",
    "print(\"mean_squared_error:\", mean_squared_error(y_test,gbrpred))\n",
    "print(\"root_mean_squared_error:\", np.sqrt(mean_squared_error(y_test,gbrpred)))\n",
    "print(\"mean_absolute_error:\",mean_absolute_error(y_test,gbrpred))\n"
   ]
  },
  {
   "cell_type": "code",
   "execution_count": 74,
   "id": "97662f54",
   "metadata": {},
   "outputs": [
    {
     "name": "stderr",
     "output_type": "stream",
     "text": [
      "C:\\Users\\A\\folder\\lib\\site-packages\\seaborn\\_decorators.py:36: FutureWarning: Pass the following variables as keyword args: x, y. From version 0.12, the only valid positional argument will be `data`, and passing other arguments without an explicit keyword will result in an error or misinterpretation.\n",
      "  warnings.warn(\n"
     ]
    },
    {
     "data": {
      "image/png": "[encoded data removed]",
      "text/plain": [
       "<Figure size 640x480 with 1 Axes>"
      ]
     },
     "metadata": {},
     "output_type": "display_data"
    }
   ],
   "source": [
    "sns.regplot(y_test,gbrpred)\n",
    "plt.xlabel('True values')\n",
    "plt.ylabel('predicted values')\n",
    "plt.show()"
   ]
  },
  {
   "cell_type": "code",
   "execution_count": 75,
   "id": "b68c9474",
   "metadata": {},
   "outputs": [
    {
     "name": "stdout",
     "output_type": "stream",
     "text": [
      "r2_score of dtc: 0.7308000374363757\n",
      "r2_score of knn: 0.8174732023710416\n",
      "r2_score of linear regression: 0.7815457419591416\n",
      "r2_score of lasso: 0.7815922562412795\n",
      "r2_score of ridge: 0.7816386405887452\n",
      "r2_score of svm: 0.8174732023710416\n",
      "r2_score of random forest regressor: 0.8340102814482064\n",
      "r2_score of Gradient boosting regressor: 0.8523861190815043\n"
     ]
    },
    {
     "data": {
      "text/plain": [
       "(None,)"
      ]
     },
     "execution_count": 75,
     "metadata": {},
     "output_type": "execute_result"
    }
   ],
   "source": [
    "print(\"r2_score of dtc:\",r2_score(y_test,dtcpred)),\n",
    "print(\"r2_score of knn:\",r2_score(y_test,knnpred)),\n",
    "print(\"r2_score of linear regression:\",r2_score(y_test,lrpred)),\n",
    "print(\"r2_score of lasso:\",r2_score(y_test,lspred)),\n",
    "print(\"r2_score of ridge:\",r2_score(y_test,rdpred)),\n",
    "print(\"r2_score of svm:\",r2_score(y_test,svmpred)),\n",
    "print(\"r2_score of random forest regressor:\",r2_score(y_test,forestpred)),\n",
    "print(\"r2_score of Gradient boosting regressor:\",r2_score(y_test,gbrpred)),"
   ]
  },
  {
   "cell_type": "markdown",
   "id": "614880dc",
   "metadata": {},
   "source": [
    "we can see from the obsevation performance of Gradient Boosting Regressor model is better in all of them"
   ]
  },
  {
   "cell_type": "code",
   "execution_count": 76,
   "id": "dc6f0f40",
   "metadata": {},
   "outputs": [],
   "source": [
    "from sklearn.model_selection import cross_val_score"
   ]
  },
  {
   "cell_type": "code",
   "execution_count": 77,
   "id": "99dd8185",
   "metadata": {},
   "outputs": [
    {
     "name": "stdout",
     "output_type": "stream",
     "text": [
      "[0.87217968 0.73278345 0.90199767 0.83969986 0.80506348]\n",
      "0.8303448278176958\n",
      "0.05853062469939379\n"
     ]
    }
   ],
   "source": [
    "#apply cv score\n",
    "score=cross_val_score(gbr,x,y,cv=5)\n",
    "print(score)\n",
    "print(score.mean())\n",
    "print(score.std())"
   ]
  },
  {
   "cell_type": "code",
   "execution_count": 78,
   "id": "9c159240",
   "metadata": {},
   "outputs": [
    {
     "name": "stdout",
     "output_type": "stream",
     "text": [
      "[0.85085779 0.70518627 0.85028432 0.81696439 0.79565685]\n",
      "0.8037899247263688\n",
      "0.05355279148500442\n"
     ]
    }
   ],
   "source": [
    "score1=cross_val_score(forest,x,y,cv=5)\n",
    "print(score1)\n",
    "print(score1.mean())\n",
    "print(score1.std())"
   ]
  },
  {
   "cell_type": "code",
   "execution_count": 79,
   "id": "e12b39c8",
   "metadata": {},
   "outputs": [
    {
     "data": {
      "text/plain": [
       "array([ 9.5146295 ,  7.92766855,  9.94081579,  7.76400429,  8.84140344,\n",
       "        9.18451125,  8.7409899 ,  8.43055775,  7.87247942,  8.62370165,\n",
       "        8.15035991,  9.48794663,  9.91846312,  9.26928377,  9.30723252,\n",
       "        9.87328011,  7.66155303,  9.3331951 ,  9.76894989,  8.24509939,\n",
       "        8.80331147,  8.54756394, 10.06718824,  9.47130381,  9.51158043,\n",
       "        9.20753183,  8.77276444,  8.59483046,  9.09429066,  9.39992184,\n",
       "        9.30989647,  8.71462307,  7.38794119,  9.31527724,  8.61901184,\n",
       "        7.97942881,  9.2021763 ,  9.57156589,  8.41067489,  8.38178323,\n",
       "       10.33888053,  7.61278522,  8.9715105 ,  9.51623268, 10.68282758,\n",
       "        9.01078413,  7.94639346,  9.5042327 ,  9.10991131,  9.70211939,\n",
       "        7.62358779,  7.70444589,  9.19019333,  8.56585582,  9.6597472 ,\n",
       "        8.84091261, 10.7117931 ,  9.69748032, 10.09173302, 10.17124331,\n",
       "        8.0475521 , 10.53672328, 10.77202183,  8.58890535,  9.12695543,\n",
       "        9.11569841,  8.1081282 ,  9.21958954,  9.22869156,  9.45726994,\n",
       "        9.62739877, 10.37713316,  9.29375991,  8.47715543,  9.96049577,\n",
       "        9.13725379,  7.92013824,  8.59775732,  8.81877265,  9.29719667,\n",
       "        8.00847788,  8.6983453 , 10.58137505,  8.93468459,  8.75036371,\n",
       "        9.40599834,  9.0897862 ,  9.50661032,  8.53294215,  8.45860258,\n",
       "        9.5054606 ,  9.24860506,  8.48268466,  9.84363693,  8.72430802,\n",
       "        8.77520333,  9.52150665,  9.13867164,  7.85452807,  9.96854376,\n",
       "        9.94551826,  9.56483137,  8.94230378,  8.89509237,  9.88049025,\n",
       "        9.38121462,  8.83281839,  9.43133731,  9.4630884 ,  9.95317532,\n",
       "        9.19985982,  8.63069318,  9.52434794, 10.78367914, 10.1051509 ,\n",
       "       10.71488296,  7.61779932, 10.69069064,  8.4421177 ,  7.5839497 ,\n",
       "        9.19756243,  9.06285667,  8.76362334, 10.13101479,  9.22745079,\n",
       "        8.45613562,  8.69270668,  8.6191146 ,  9.46020106,  9.90923256,\n",
       "        9.45832616,  8.61069823,  8.8756384 ,  9.5253023 , 10.62611794,\n",
       "        9.45377862,  9.37618748,  9.19351317,  8.3946056 , 11.06119878,\n",
       "        9.37062175, 10.59334758,  9.30487112,  8.60928573,  7.40784119,\n",
       "        9.30538035,  9.04116577,  9.8464    ,  9.34281339,  8.72093837,\n",
       "        8.21361577,  8.47992324,  8.28041296, 10.80366746, 10.580857  ,\n",
       "        9.54400454,  8.0706711 ,  9.10840091,  8.58899034, 10.59543841,\n",
       "        8.13365589,  7.28741294, 10.58237466,  9.1654627 ,  7.82962171,\n",
       "       10.10774534, 10.59701502,  9.45001936,  8.78016739, 10.77100873,\n",
       "        7.80494022,  8.41335794,  7.54989371,  9.22023376,  8.61901184,\n",
       "        9.48701785,  9.09551922, 10.73667805,  8.08661275,  9.1895446 ,\n",
       "        9.55104404, 10.18844918,  9.54326844,  9.15525425,  7.78695014,\n",
       "       10.7705463 , 10.52945776,  9.4581657 , 10.57199959,  8.65645764,\n",
       "        8.95241855,  9.14287373, 10.65782112,  9.52361438, 10.671129  ,\n",
       "        9.1889408 ,  9.98625973,  8.25128622,  9.70306709,  9.8581999 ,\n",
       "        9.48629108, 10.7250503 ,  8.14948635,  9.21157456,  8.99850356,\n",
       "        9.58246548,  9.86561705,  9.07680228,  9.56540151,  8.46613411,\n",
       "        7.99201349,  8.20091055,  9.01021403,  9.68006341,  8.43953158,\n",
       "        8.97323404,  7.5057505 ,  9.53267159,  9.15287355,  8.32388752,\n",
       "        8.6544454 ,  9.38945652,  8.91315442,  8.94994367,  8.79137669,\n",
       "        9.08066484, 10.25461953,  9.04309505, 10.5129274 ,  8.53294215,\n",
       "       10.79139786,  9.4396225 ,  9.5518477 ,  7.97567301, 10.38965781,\n",
       "        9.48771613,  8.67235037,  8.71718491,  9.50481561,  7.50029147,\n",
       "        8.99931512,  8.60981125,  8.49382984,  7.47660261, 10.05959343,\n",
       "        8.96787524,  8.84808597,  7.33630563,  8.0912113 ,  8.94324247,\n",
       "        9.55583932,  8.79622064, 10.06725968, 10.69982936,  8.60884172,\n",
       "        8.00738136, 10.6146327 ,  8.48976611,  9.20646501,  9.31200853,\n",
       "        8.26228326,  8.55824073,  9.69166214,  8.65890896])"
      ]
     },
     "execution_count": 79,
     "metadata": {},
     "output_type": "execute_result"
    }
   ],
   "source": [
    "# save model\n",
    "import pickle\n",
    "filename='GradientBoostingRegressor.pkl'\n",
    "pickle.dump(gbr,open(filename,'wb'))\n",
    "\n",
    "load_model=pickle.load(open(filename,'rb'))\n",
    "load_model.predict(x_test)"
   ]
  },
  {
   "cell_type": "code",
   "execution_count": 80,
   "id": "66695f26",
   "metadata": {},
   "outputs": [
    {
     "data": {
      "text/html": [
       "<div>\n",
       "<style scoped>\n",
       "    .dataframe tbody tr th:only-of-type {\n",
       "        vertical-align: middle;\n",
       "    }\n",
       "\n",
       "    .dataframe tbody tr th {\n",
       "        vertical-align: top;\n",
       "    }\n",
       "\n",
       "    .dataframe thead th {\n",
       "        text-align: right;\n",
       "    }\n",
       "</style>\n",
       "<table border=\"1\" class=\"dataframe\">\n",
       "  <thead>\n",
       "    <tr style=\"text-align: right;\">\n",
       "      <th></th>\n",
       "      <th>0</th>\n",
       "      <th>1</th>\n",
       "      <th>2</th>\n",
       "      <th>3</th>\n",
       "      <th>4</th>\n",
       "      <th>5</th>\n",
       "      <th>6</th>\n",
       "      <th>7</th>\n",
       "      <th>8</th>\n",
       "      <th>9</th>\n",
       "      <th>...</th>\n",
       "      <th>254</th>\n",
       "      <th>255</th>\n",
       "      <th>256</th>\n",
       "      <th>257</th>\n",
       "      <th>258</th>\n",
       "      <th>259</th>\n",
       "      <th>260</th>\n",
       "      <th>261</th>\n",
       "      <th>262</th>\n",
       "      <th>263</th>\n",
       "    </tr>\n",
       "  </thead>\n",
       "  <tbody>\n",
       "    <tr>\n",
       "      <th>Predicted</th>\n",
       "      <td>9.514629</td>\n",
       "      <td>7.927669</td>\n",
       "      <td>9.940816</td>\n",
       "      <td>7.764004</td>\n",
       "      <td>8.841403</td>\n",
       "      <td>9.184511</td>\n",
       "      <td>8.740990</td>\n",
       "      <td>8.430558</td>\n",
       "      <td>7.872479</td>\n",
       "      <td>8.623702</td>\n",
       "      <td>...</td>\n",
       "      <td>8.608842</td>\n",
       "      <td>8.007381</td>\n",
       "      <td>10.614633</td>\n",
       "      <td>8.489766</td>\n",
       "      <td>9.206465</td>\n",
       "      <td>9.312009</td>\n",
       "      <td>8.262283</td>\n",
       "      <td>8.558241</td>\n",
       "      <td>9.691662</td>\n",
       "      <td>8.658909</td>\n",
       "    </tr>\n",
       "    <tr>\n",
       "      <th>Original</th>\n",
       "      <td>9.473643</td>\n",
       "      <td>7.663140</td>\n",
       "      <td>9.800012</td>\n",
       "      <td>7.676359</td>\n",
       "      <td>8.821136</td>\n",
       "      <td>9.054494</td>\n",
       "      <td>8.494947</td>\n",
       "      <td>8.187069</td>\n",
       "      <td>7.921180</td>\n",
       "      <td>8.411908</td>\n",
       "      <td>...</td>\n",
       "      <td>8.484170</td>\n",
       "      <td>7.904376</td>\n",
       "      <td>10.650439</td>\n",
       "      <td>8.403514</td>\n",
       "      <td>10.256568</td>\n",
       "      <td>9.195271</td>\n",
       "      <td>7.956980</td>\n",
       "      <td>8.459463</td>\n",
       "      <td>9.535644</td>\n",
       "      <td>8.517750</td>\n",
       "    </tr>\n",
       "  </tbody>\n",
       "</table>\n",
       "<p>2 rows × 264 columns</p>\n",
       "</div>"
      ],
      "text/plain": [
       "                0         1         2         3         4         5    \\\n",
       "Predicted  9.514629  7.927669  9.940816  7.764004  8.841403  9.184511   \n",
       "Original   9.473643  7.663140  9.800012  7.676359  8.821136  9.054494   \n",
       "\n",
       "                6         7         8         9    ...       254       255  \\\n",
       "Predicted  8.740990  8.430558  7.872479  8.623702  ...  8.608842  8.007381   \n",
       "Original   8.494947  8.187069  7.921180  8.411908  ...  8.484170  7.904376   \n",
       "\n",
       "                 256       257        258       259       260       261  \\\n",
       "Predicted  10.614633  8.489766   9.206465  9.312009  8.262283  8.558241   \n",
       "Original   10.650439  8.403514  10.256568  9.195271  7.956980  8.459463   \n",
       "\n",
       "                262       263  \n",
       "Predicted  9.691662  8.658909  \n",
       "Original   9.535644  8.517750  \n",
       "\n",
       "[2 rows x 264 columns]"
      ]
     },
     "execution_count": 80,
     "metadata": {},
     "output_type": "execute_result"
    }
   ],
   "source": [
    "conculusion=pd.DataFrame([load_model.predict(x_test)[:],(y_test)[:]],index=[\"Predicted\",\"Original\"])\n",
    "conculusion"
   ]
  },
  {
   "cell_type": "code",
   "execution_count": 82,
   "id": "7885f3d0",
   "metadata": {},
   "outputs": [],
   "source": [
    "predicted=load_model.predict(x_test)[:]\n",
    "original=(y_test)[:]"
   ]
  },
  {
   "cell_type": "code",
   "execution_count": 83,
   "id": "16418110",
   "metadata": {},
   "outputs": [
    {
     "name": "stderr",
     "output_type": "stream",
     "text": [
      "C:\\Users\\A\\folder\\lib\\site-packages\\seaborn\\_decorators.py:36: FutureWarning: Pass the following variables as keyword args: x, y. From version 0.12, the only valid positional argument will be `data`, and passing other arguments without an explicit keyword will result in an error or misinterpretation.\n",
      "  warnings.warn(\n"
     ]
    },
    {
     "data": {
      "image/png": "[encoded data removed]",
      "text/plain": [
       "<Figure size 640x480 with 1 Axes>"
      ]
     },
     "metadata": {},
     "output_type": "display_data"
    }
   ],
   "source": [
    "sns.regplot(predicted,original)\n",
    "plt.show()"
   ]
  },
  {
   "cell_type": "code",
   "execution_count": null,
   "id": "4d60fdcc",
   "metadata": {},
   "outputs": [],
   "source": []
  }
 ],
 "metadata": {
  "kernelspec": {
   "display_name": "Python 3 (ipykernel)",
   "language": "python",
   "name": "python3"
  },
  "language_info": {
   "codemirror_mode": {
    "name": "ipython",
    "version": 3
   },
   "file_extension": ".py",
   "mimetype": "text/x-python",
   "name": "python",
   "nbconvert_exporter": "python",
   "pygments_lexer": "ipython3",
   "version": "3.9.13"
  }
 },
 "nbformat": 4,
 "nbformat_minor": 5
}
